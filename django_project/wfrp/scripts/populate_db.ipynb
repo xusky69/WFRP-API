{
 "cells": [
  {
   "cell_type": "code",
   "execution_count": 1,
   "metadata": {},
   "outputs": [],
   "source": [
    "# python manage.py shell_plus --notebook\n",
    "import os\n",
    "import pandas as pd\n",
    "import django\n",
    "from django.core.files.uploadedfile import UploadedFile\n",
    "from wfrp.models import (Campaign, Item, Talent, Spell, AdvancedSkill,\n",
    "                         PlayableCharacter, Armour, Weapon, Creature, CreatureTrait)\n",
    "from users.models import User\n",
    "from wfrp.scripts.default_content import (addDefaultCharacter,\n",
    "                                          addDefaultCreatures,\n",
    "                                          addDefaultCampaign)\n",
    "\n",
    "os.environ[\"DJANGO_ALLOW_ASYNC_UNSAFE\"] = \"true\"\n",
    "django.setup()\n"
   ]
  },
  {
   "cell_type": "code",
   "execution_count": 2,
   "metadata": {},
   "outputs": [],
   "source": [
    "EXAMPLE_MEDIA_ROOT = '../example_media/'\n"
   ]
  },
  {
   "cell_type": "markdown",
   "metadata": {},
   "source": [
    "### Purge current instances"
   ]
  },
  {
   "cell_type": "code",
   "execution_count": 3,
   "metadata": {},
   "outputs": [
    {
     "data": {
      "text/plain": [
       "(1, {'wfrp.CreatureTrait': 1})"
      ]
     },
     "execution_count": 3,
     "metadata": {},
     "output_type": "execute_result"
    }
   ],
   "source": [
    "PlayableCharacter.objects.all().delete()\n",
    "Item.objects.all().delete()\n",
    "Armour.objects.all().delete()\n",
    "Talent.objects.all().delete()\n",
    "Spell.objects.all().delete()\n",
    "AdvancedSkill.objects.all().delete()\n",
    "Weapon.objects.all().delete()\n",
    "# User.objects.all().delete()\n",
    "User.objects.all().exclude(username='admin').delete()\n",
    "Creature.objects.all().delete()\n",
    "CreatureTrait.objects.all().delete()\n"
   ]
  },
  {
   "cell_type": "markdown",
   "metadata": {},
   "source": [
    "### Create test users"
   ]
  },
  {
   "cell_type": "code",
   "execution_count": 4,
   "metadata": {},
   "outputs": [],
   "source": [
    "users = [{'name': 'ricardo'},\n",
    "         {'name': 'danna'},\n",
    "         {'name': 'omar'},\n",
    "         {'name': 'caceres'},\n",
    "         {'name': 'aleja'},\n",
    "         {'name': 'elliot'},\n",
    "         {'name': 'felipe'},\n",
    "         {'name': 'velez'}]\n",
    "\n",
    "for user in users:\n",
    "    user_instance = User.objects.create_user(username=user['name'],\n",
    "                                             password=f'{user[\"name\"]}_changeme')\n",
    "    user_instance.save()\n",
    "\n",
    "admin = User.objects.filter(username='admin')[0]\n",
    "# admin = User.objects.create_user('admin', password='123')\n",
    "# admin.is_superuser = True\n",
    "# admin.is_staff = True\n",
    "# admin.save()\n"
   ]
  },
  {
   "cell_type": "markdown",
   "metadata": {},
   "source": [
    "### Create default campaign"
   ]
  },
  {
   "cell_type": "code",
   "execution_count": 5,
   "metadata": {},
   "outputs": [],
   "source": [
    "campaign_master = User.objects.get(username='velez')\n",
    "campaign_name = 'Haciendo la ronda'\n",
    "campaign_description = '''\n",
    "Los Personajes, que paseaban por el mercado de Ubersreik, se ven metidos en un tumulto y, más tarde, se les acusa de instigarlo. Misteriosamente, una abogada local interviene y convence al juez responsable del caso de que permita a los Personajes que paguen su ‘deuda’ trabajando como miembros de la Guardia.\n",
    "\n",
    "Pronto, el grupo se ve patrullando las calles de Ubersreik con Rudi Klumpenklug, un sargento de la guardia absolutamente corrupto. Los guardias temporales se ven expuestos a diversos delitos, ninguno de los cuales Klumpenklug muestra interés alguno por perseguir, dejando que los Personajes resuelvan, ignoren o incluso exploten cada situación como prefieran.\n",
    "\n",
    "Por último, Ilse Fassenwütend se pone en contacto con el grupo. Fassenwütend es una guarda de caminos, que afirma ser capaz de hacer que la sentencia de los Personajes sea conmutada si le ayudan a escoltar a un criminal al lugar donde debe ser ejecutado.\n",
    "\n",
    "Sin embargo, no será tarea fácil. El grupo tendrá ante sí una noche horrorosa, llevando a un hombre aterrorizado a través de unas calles extrañamente alteradas mientras Morrslieb, la luna del Caos, está en cuarto creciente (y por lo tanto brilla en el cielo) y sectarios mutantes los atacan por todos lados ¿Conseguirán los Personajes proteger al hombre, que afirma ser inocente, para luego llevarlo hasta el cadalso? ¿O elegirán un camino distinto?\n",
    "'''\n",
    "\n",
    "campaign = addDefaultCampaign(campaign_master,\n",
    "                              campaign_name,\n",
    "                              campaign_description,\n",
    "                              EXAMPLE_MEDIA_ROOT)\n"
   ]
  },
  {
   "cell_type": "markdown",
   "metadata": {},
   "source": [
    "### Add default characters"
   ]
  },
  {
   "cell_type": "code",
   "execution_count": 6,
   "metadata": {},
   "outputs": [],
   "source": [
    "user = User.objects.filter(username='ricardo')[0]\n",
    "campaign = Campaign.objects.all()[0]\n",
    "addDefaultCharacter(user=user, campaign=campaign,\n",
    "                    character_name='GUNNAR', EXAMPLE_MEDIA_ROOT=EXAMPLE_MEDIA_ROOT)\n",
    "character_instance = PlayableCharacter.objects.filter(\n",
    "    name='Gunnar Hrolfsson')[0]\n"
   ]
  },
  {
   "cell_type": "markdown",
   "metadata": {},
   "source": [
    "### Add default creatures"
   ]
  },
  {
   "cell_type": "code",
   "execution_count": 7,
   "metadata": {},
   "outputs": [],
   "source": [
    "addDefaultCreatures(EXAMPLE_MEDIA_ROOT)"
   ]
  }
 ],
 "metadata": {
  "kernelspec": {
   "display_name": "Django Shell-Plus",
   "language": "python",
   "name": "django_extensions"
  },
  "language_info": {
   "codemirror_mode": {
    "name": "ipython",
    "version": 3
   },
   "file_extension": ".py",
   "mimetype": "text/x-python",
   "name": "python",
   "nbconvert_exporter": "python",
   "pygments_lexer": "ipython3",
   "version": "3.8.10"
  },
  "orig_nbformat": 4
 },
 "nbformat": 4,
 "nbformat_minor": 2
}
