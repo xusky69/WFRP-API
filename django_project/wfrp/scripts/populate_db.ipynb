{
 "cells": [
  {
   "cell_type": "code",
   "execution_count": 1,
   "metadata": {},
   "outputs": [],
   "source": [
    "# python manage.py shell_plus --notebook\n",
    "\n",
    "import os\n",
    "import django\n",
    "\n",
    "from random import randint\n",
    "\n",
    "os.environ[\"DJANGO_ALLOW_ASYNC_UNSAFE\"] = \"true\"\n",
    "django.setup()\n",
    "\n",
    "import pandas as pd\n",
    "from django.core.files.uploadedfile import UploadedFile\n",
    "from wfrp.models import (Campaign, Item, Talent, Spell, AdvancedSkill,\n",
    "                         PlayableCharacter, Armour, Weapon, Creature, CreatureTrait)\n",
    "from django.conf import settings\n",
    "from users.models import User\n",
    "from wfrp.scripts.default_content import (addDefaultCharacter,\n",
    "                                          addDefaultCreatures,\n",
    "                                          addDefaultCampaign)\n"
   ]
  },
  {
   "cell_type": "code",
   "execution_count": 2,
   "metadata": {},
   "outputs": [],
   "source": [
    "EXAMPLE_MEDIA_ROOT = '../example_media/'"
   ]
  },
  {
   "cell_type": "markdown",
   "metadata": {},
   "source": [
    "### Purge current instances"
   ]
  },
  {
   "cell_type": "code",
   "execution_count": 3,
   "metadata": {},
   "outputs": [
    {
     "data": {
      "text/plain": [
       "(1, {'wfrp.CreatureTrait': 1})"
      ]
     },
     "execution_count": 3,
     "metadata": {},
     "output_type": "execute_result"
    }
   ],
   "source": [
    "Campaign.objects.all().delete()\n",
    "PlayableCharacter.objects.all().delete()\n",
    "Item.objects.all().delete()\n",
    "Armour.objects.all().delete()\n",
    "Talent.objects.all().delete()\n",
    "Spell.objects.all().delete()\n",
    "AdvancedSkill.objects.all().delete()\n",
    "Weapon.objects.all().delete()\n",
    "# User.objects.all().delete()\n",
    "User.objects.all().exclude(username='admin').delete()\n",
    "Creature.objects.all().delete()\n",
    "CreatureTrait.objects.all().delete()\n"
   ]
  },
  {
   "cell_type": "markdown",
   "metadata": {},
   "source": [
    "### Create test users"
   ]
  },
  {
   "cell_type": "code",
   "execution_count": 4,
   "metadata": {},
   "outputs": [],
   "source": [
    "users = [\n",
    "         {'name': 'gunnar'   , 'character':'GUNNAR'},\n",
    "         {'name': 'else'     , 'character':'ELSE'},\n",
    "         {'name': 'amris'    , 'character':'AMRIS'},\n",
    "         {'name': 'ferdinand', 'character':'FERDINAND'},\n",
    "         {'name': 'molrella' , 'character':'MOLRELLA'},\n",
    "         {'name': 'master'   , 'character':''}\n",
    "        ]\n",
    "\n",
    "for user in users:\n",
    "    user_instance = User.objects.create_user(username=user['name'],\n",
    "                                             password=f'{user[\"name\"]}123')\n",
    "    user_instance.save()\n",
    "\n",
    "admin = User.objects.filter(username='admin')[0]\n",
    "# admin = User.objects.create_user('admin', password='123')\n",
    "# admin.is_superuser = True\n",
    "# admin.is_staff = True\n",
    "# admin.save()"
   ]
  },
  {
   "cell_type": "markdown",
   "metadata": {},
   "source": [
    "### Create default campaign"
   ]
  },
  {
   "cell_type": "code",
   "execution_count": 5,
   "metadata": {},
   "outputs": [],
   "source": [
    "campaign_master = User.objects.get(username='master')\n",
    "campaign_name = 'Doing the rounds'\n",
    "campaign_description = '''\n",
    "The Characters, strolling through the Ubersreik marketplace, are caught up in a riot and later charged with instigating it. Mysteriously, a local lawyer intervenes and convinces the judge in charge of the case to allow the Characters to pay their 'debt' by working as members of the Guard.\n",
    "\n",
    "Soon, the group finds themselves patrolling the streets of Ubersreik with Rudi Klumpenklug, a thoroughly corrupt sergeant of the Guard. The temporary guards are exposed to various crimes, none of which Klumpenklug shows any interest in pursuing, leaving the Characters to resolve, ignore or even exploit each situation as they prefer.\n",
    "\n",
    "Finally, Ilse Fassenwütend contacts the group. Fassenwütend is a road guard, who claims to be able to have the Characters' sentences commuted if they help her escort a criminal to the place where he is to be executed.\n",
    "\n",
    "However, it will not be an easy task. The group will have a horrific night ahead of them, leading a terrified man through strangely altered streets while Morrslieb, the Chaos moon, is in the crescent (and therefore shining in the sky) and mutant cultists attack them from all sides. Will the Characters manage to protect the man, who claims to be innocent, and then take him to the scaffold? Or will they choose a different path?\n",
    "'''\n",
    "\n",
    "campaign = addDefaultCampaign(campaign_master,\n",
    "                              campaign_name,\n",
    "                              campaign_description,\n",
    "                              EXAMPLE_MEDIA_ROOT)\n"
   ]
  },
  {
   "cell_type": "markdown",
   "metadata": {},
   "source": [
    "### Add default characters"
   ]
  },
  {
   "cell_type": "code",
   "execution_count": 6,
   "metadata": {},
   "outputs": [],
   "source": [
    "for user_entry in users:\n",
    "    if len(user_entry['character']) > 0:\n",
    "        user = User.objects.filter(username=user_entry['name'])[0]\n",
    "        campaign = Campaign.objects.all()[0]\n",
    "        addDefaultCharacter(user=user, \n",
    "                            campaign=campaign,\n",
    "                            character_name=user_entry['character'], \n",
    "                            EXAMPLE_MEDIA_ROOT=EXAMPLE_MEDIA_ROOT)"
   ]
  },
  {
   "cell_type": "markdown",
   "metadata": {},
   "source": [
    "### Add default creatures"
   ]
  },
  {
   "cell_type": "code",
   "execution_count": 7,
   "metadata": {},
   "outputs": [],
   "source": [
    "addDefaultCreatures(EXAMPLE_MEDIA_ROOT)"
   ]
  }
 ],
 "metadata": {
  "kernelspec": {
   "display_name": "Django Shell-Plus",
   "language": "python",
   "name": "django_extensions"
  },
  "language_info": {
   "codemirror_mode": {
    "name": "ipython",
    "version": 3
   },
   "file_extension": ".py",
   "mimetype": "text/x-python",
   "name": "python",
   "nbconvert_exporter": "python",
   "pygments_lexer": "ipython3",
   "version": "3.8.10"
  },
  "orig_nbformat": 4
 },
 "nbformat": 4,
 "nbformat_minor": 2
}
