{
 "cells": [
  {
   "cell_type": "code",
   "execution_count": 1,
   "metadata": {},
   "outputs": [],
   "source": [
    "# python manage.py shell_plus --notebook\n",
    "import os\n",
    "import django\n",
    "from django.core.files.uploadedfile import UploadedFile\n",
    "from wfrp.models import Campaign, Item, Talent, Spell, PlayableCharacter\n",
    "from users.models import User\n",
    "\n",
    "os.environ[\"DJANGO_ALLOW_ASYNC_UNSAFE\"] = \"true\"\n",
    "django.setup()"
   ]
  },
  {
   "cell_type": "markdown",
   "metadata": {},
   "source": [
    "### Database initialization"
   ]
  },
  {
   "cell_type": "code",
   "execution_count": 2,
   "metadata": {},
   "outputs": [
    {
     "name": "stdout",
     "output_type": "stream",
     "text": [
      "ricardo added successfully!\n",
      "danna added successfully!\n",
      "omar added successfully!\n",
      "caceres added successfully!\n",
      "aleja added successfully!\n",
      "elliot added successfully!\n",
      "felipe added successfully!\n",
      "velez added successfully!\n"
     ]
    }
   ],
   "source": [
    "# Defining party users\n",
    "users = [{'name': 'ricardo'},\n",
    "         {'name': 'danna'},\n",
    "         {'name': 'omar'},\n",
    "         {'name': 'caceres'},\n",
    "         {'name': 'aleja'},\n",
    "         {'name': 'elliot'},\n",
    "         {'name': 'felipe'},\n",
    "         {'name': 'velez'}]\n",
    "\n",
    "for user in users:\n",
    "  user['password'] = f'{user[\"name\"]}_changeme'\n",
    "\n",
    "current_users = [user.username for user in User.objects.all()]\n",
    "\n",
    "for user in users:\n",
    "  if user['name'] not in current_users:\n",
    "    user_instance = User.objects.create_user(username=user['name'], \n",
    "                                             password=user['password'])\n",
    "    user_instance.save()\n",
    "    print(user['name'], 'added successfully!')\n",
    "\n",
    "for user in users:\n",
    "  user['instance'] = User.objects.get(username=user['name'])\n",
    "\n",
    "GUNNAR = {\n",
    "  'user': User.objects.get(username='ricardo'),\n",
    "  'name': 'Gunnar Hrolfsson',\n",
    "  'species': 'Dwarf',\n",
    "  'character_class': 'Warrior',\n",
    "  'career': 'Slayer',\n",
    "  'career_level': 'Giant Slayer',\n",
    "  'career_path': 'Apprentice Artisan, Troll Slayer, Giant Slayer',\n",
    "}\n",
    "\n",
    "MOLRELLA = {\n",
    "  'user': User.objects.get(username='felipe'),\n",
    "  'name': 'Molrella Brandysnap',\n",
    "  'species': 'Halfling',\n",
    "  'character_class': 'Rogue',\n",
    "  'career': 'Slayer',\n",
    "  'career_level': 'Giant Slayer',\n",
    "  'career_path': 'Pauper, Prowler, Thief',\n",
    "}\n",
    "\n",
    "FERDINAND = {\n",
    "  'user': User.objects.get(username='caceres'),\n",
    "  'name': 'Ferdinand Gruber',\n",
    "  'species': 'Human',\n",
    "  'character_class': 'Academic',\n",
    "  'career': 'Wizard',\n",
    "  'career_level': \"Wizard's Apprentice\",\n",
    "  'career_path': \"Scion, Wizard's Apprentice\",\n",
    "}\n",
    "\n",
    "AMRIS = {\n",
    "  'user': User.objects.get(username='omar'),\n",
    "  'name': 'Amris Emberfell',\n",
    "  'species': 'High Elf',\n",
    "  'character_class': 'Burgher',\n",
    "  'career': 'Wizard',\n",
    "  'career_level': \"Merchant\",\n",
    "  'career_path': \"Scion, Wizard's Apprentice\",\n",
    "}\n",
    "\n",
    "ELSE = {\n",
    "  'user': User.objects.get(username='danna'),\n",
    "  'name': 'Else Sigloben',\n",
    "  'species': 'Human',\n",
    "  'character_class': 'Ranger',\n",
    "  'career': 'Witch Hunter',\n",
    "  'career_level': \"Witch Hunter\",\n",
    "  'career_path': \"Interrogator, Witch Hunter\",\n",
    "}\n",
    "\n",
    "YAPER = {\n",
    "  'user': User.objects.get(username='elliot'),\n",
    "  'name': 'Yaper Dio',\n",
    "  'species': 'Human',\n",
    "  'character_class': 'Rogue',\n",
    "  'career': 'Child',\n",
    "  'career_level': \"Child Hero Apprentice\",\n",
    "  'career_path': \"Poor Child, Child Hero Apprentice\", \n",
    "}\n",
    "\n",
    "PARTY = [GUNNAR, MOLRELLA, FERDINAND, AMRIS, ELSE, YAPER]\n"
   ]
  },
  {
   "cell_type": "code",
   "execution_count": 3,
   "metadata": {},
   "outputs": [],
   "source": [
    "campaign_master = User.objects.get(username='velez')\n",
    "campaign_name = 'Haciendo la ronda'\n",
    "campaign_description = '''\n",
    "Los Personajes, que paseaban por el mercado de Ubersreik, se ven metidos en un tumulto y, más tarde, se les acusa de instigarlo. Misteriosamente, una abogada local interviene y convence al juez responsable del caso de que permita a los Personajes que paguen su ‘deuda’ trabajando como miembros de la Guardia.\n",
    "\n",
    "Pronto, el grupo se ve patrullando las calles de Ubersreik con Rudi Klumpenklug, un sargento de la guardia absolutamente corrupto. Los guardias temporales se ven expuestos a diversos delitos, ninguno de los cuales Klumpenklug muestra interés alguno por perseguir, dejando que los Personajes resuelvan, ignoren o incluso exploten cada situación como prefieran.\n",
    "\n",
    "Por último, Ilse Fassenwütend se pone en contacto con el grupo. Fassenwütend es una guarda de caminos, que afirma ser capaz de hacer que la sentencia de los Personajes sea conmutada si le ayudan a escoltar a un criminal al lugar donde debe ser ejecutado.\n",
    "\n",
    "Sin embargo, no será tarea fácil. El grupo tendrá ante sí una noche horrorosa, llevando a un hombre aterrorizado a través de unas calles extrañamente alteradas mientras Morrslieb, la luna del Caos, está en cuarto creciente (y por lo tanto brilla en el cielo) y sectarios mutantes los atacan por todos lados ¿Conseguirán los Personajes proteger al hombre, que afirma ser inocente, para luego llevarlo hasta el cadalso? ¿O elegirán un camino distinto?\n",
    "'''\n",
    "\n",
    "if len(Campaign.objects.filter(name=campaign_name)) == 0:\n",
    "  campaign = Campaign(master=campaign_master, \n",
    "                      name=campaign_name,\n",
    "                      description=campaign_description.strip())\n",
    "  campaign.save()\n",
    "  campaign.cover_image.save(f'ubersreik.jpg', UploadedFile(file=open(f'../example_media/ubersreik.jpg', 'rb'), content_type='image/png'))\n",
    "else:\n",
    "  campaign = Campaign.objects.get(name=campaign_name)"
   ]
  },
  {
   "cell_type": "code",
   "execution_count": 4,
   "metadata": {},
   "outputs": [],
   "source": [
    "for character in PARTY:\n",
    "  similar_characters = PlayableCharacter.objects.filter(name=character['name']) \n",
    "  character_instance = similar_characters[0] if len(similar_characters) > 0 else None\n",
    "  if character_instance not in PlayableCharacter.objects.all():\n",
    "    character_instance = PlayableCharacter(**character, campaign = campaign)\n",
    "    character_instance.save()\n",
    "    character_name = character_instance.name.split(\" \")[0].lower()\n",
    "    character_instance.character_avatar.save(f'{character_name}.png', UploadedFile(file=open(f'../example_media/{character_name}.png', 'rb'), content_type='image/png'))"
   ]
  },
  {
   "cell_type": "code",
   "execution_count": 6,
   "metadata": {},
   "outputs": [
    {
     "data": {
      "text/plain": [
       "1"
      ]
     },
     "execution_count": 6,
     "metadata": {},
     "output_type": "execute_result"
    }
   ],
   "source": [
    "import pandas as pd\n",
    "\n",
    "char_data = pd.read_excel('../example_media/initial_characters.xlsx')\n",
    "char_data = char_data.to_dict(orient='list')\n",
    "char_data = {key.strip():value[0] for key,value in char_data.items()}\n",
    "\n",
    "gunnar = PlayableCharacter.objects.filter(name='Gunnar Hrolfsson')\n",
    "gunnar.update(**char_data)"
   ]
  },
  {
   "cell_type": "code",
   "execution_count": null,
   "metadata": {},
   "outputs": [],
   "source": []
  }
 ],
 "metadata": {
  "interpreter": {
   "hash": "9fec8b9d401893415c97aa4b50090df26075fc07ac3f81bbd0f4d8c94d1ab7f1"
  },
  "kernelspec": {
   "display_name": "Django Shell-Plus",
   "language": "python",
   "name": "django_extensions"
  },
  "language_info": {
   "codemirror_mode": {
    "name": "ipython",
    "version": 3
   },
   "file_extension": ".py",
   "mimetype": "text/x-python",
   "name": "python",
   "nbconvert_exporter": "python",
   "pygments_lexer": "ipython3",
   "version": "3.8.10"
  },
  "orig_nbformat": 4
 },
 "nbformat": 4,
 "nbformat_minor": 2
}
